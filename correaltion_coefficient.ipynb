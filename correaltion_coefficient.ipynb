{
 "cells": [
  {
   "cell_type": "code",
   "execution_count": 7,
   "id": "8a56e5bb-430e-40f1-b317-f0c13d635a56",
   "metadata": {
    "tags": []
   },
   "outputs": [],
   "source": [
    "import numpy as np\n",
    "import matplotlib.pyplot as plt"
   ]
  },
  {
   "cell_type": "code",
   "execution_count": 13,
   "id": "f7fea58d-9565-4647-bafa-470817e1b076",
   "metadata": {
    "tags": []
   },
   "outputs": [],
   "source": [
    "import pickle\n",
    "\n",
    "# データセットのロード\n",
    "# y_val\n",
    "mode = 100\n",
    "testdir = '/docker/mnt/d/research/D2/cnn3/test'\n",
    "val_path = testdir + '/continuous/seed1_predictors_coarse_std_Apr_msot-pr_1x1_std_MJJASO_thailand.pickle'\n",
    "with open(val_path, 'rb') as f:\n",
    "    data = pickle.load(f)\n",
    "y_val, val_dct = data['y_val'], data['val_dct']\n",
    "val_model, val_year = val_dct['model'], val_dct['year'] # validationモデルと年のdict\n",
    "\n",
    "# pred_val\n",
    "pred_path = f\"/docker/mnt/d/research/D2/cnn3/result/svd/thailand/1x1/seed1_mode{mode}.npy\"\n",
    "pred_val = np.load(pred_path)\n",
    "\n",
    "# pred_val_norm, y_val_norm\n",
    "pred_norm_path = f\"/docker/mnt/d/research/D2/cnn3/result/svd/thailand/1x1/seed1_mode{mode}_norm.pickle\"\n",
    "with open(pred_norm_path, 'rb') as f:\n",
    "    data = pickle.load(f)\n",
    "pred_val_norm, y_val_norm = data['pred_val_norm'], data['y_val_norm']"
   ]
  },
  {
   "cell_type": "code",
   "execution_count": 17,
   "id": "a74a574d-ed05-4422-91f7-52c809d3fc86",
   "metadata": {},
   "outputs": [
    {
     "name": "stdout",
     "output_type": "stream",
     "text": [
      "-0.00229\n"
     ]
    }
   ],
   "source": [
    "corr = []\n",
    "for px in range(400):\n",
    "    corr_px = np.corrcoef(pred_val[:, px], y_val[:, px])\n",
    "    corr.append(np.round(corr_px[0,1], 3))\n",
    "print(np.mean(corr))"
   ]
  },
  {
   "cell_type": "code",
   "execution_count": null,
   "id": "6a4aa117-fc08-44b5-9c4f-53f4a961bb05",
   "metadata": {},
   "outputs": [],
   "source": []
  }
 ],
 "metadata": {
  "kernelspec": {
   "display_name": "Python 3 (ipykernel)",
   "language": "python",
   "name": "python3"
  },
  "language_info": {
   "codemirror_mode": {
    "name": "ipython",
    "version": 3
   },
   "file_extension": ".py",
   "mimetype": "text/x-python",
   "name": "python",
   "nbconvert_exporter": "python",
   "pygments_lexer": "ipython3",
   "version": "3.8.10"
  }
 },
 "nbformat": 4,
 "nbformat_minor": 5
}
