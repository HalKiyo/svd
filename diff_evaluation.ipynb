{
 "cells": [
  {
   "cell_type": "code",
   "execution_count": 10,
   "id": "8a56e5bb-430e-40f1-b317-f0c13d635a56",
   "metadata": {
    "tags": []
   },
   "outputs": [],
   "source": [
    "import matplotlib.pyplot as plt\n",
    "\n",
    "def diff_bar(data, vmin=0, vmax=2):\n",
    "    #  グリッド毎にabs(実際のlabelデータ - 予測結果)を400個棒グラフにして出力する\n",
    "    fig = plt.figure()\n",
    "    ax = plt.subplot()\n",
    "    pixcel = np.arange(len(data))\n",
    "    ax.bar(pixcel, data, color='magenta', label=\"svd\")\n",
    "    ax.set_ylim(vmin, vmax)\n",
    "    plt.xlabel(\"grid number\")\n",
    "    plt.ylabel(\"mean absolute error\")\n",
    "    plt.legend()\n",
    "    plt.show()"
   ]
  },
  {
   "cell_type": "code",
   "execution_count": 11,
   "id": "14ab444d-65f6-4dec-93ce-353d7ca7e2f0",
   "metadata": {
    "tags": []
   },
   "outputs": [],
   "source": [
    "import numpy as np\n",
    "\n",
    "def diff(pred, y):\n",
    "    diff = np.abs(pred - y)\n",
    "    diff_mean = np.mean(diff_flat, axis=0)\n",
    "    diff_bar(diff_mean)"
   ]
  },
  {
   "cell_type": "code",
   "execution_count": 12,
   "id": "f7fea58d-9565-4647-bafa-470817e1b076",
   "metadata": {
    "tags": []
   },
   "outputs": [],
   "source": [
    "import pickle\n",
    "\n",
    "# データセットのロード\n",
    "# y_val\n",
    "mode = 10\n",
    "testdir = '/docker/mnt/d/research/D2/cnn3/test'\n",
    "val_path = testdir + '/continuous/seed1_predictors_coarse_std_Apr_msot-pr_1x1_std_MJJASO_thailand.pickle'\n",
    "with open(val_path, 'rb') as f:\n",
    "    data = pickle.load(f)\n",
    "y_val, val_dct = data['y_val'], data['val_dct']\n",
    "val_model, val_year = val_dct['model'], val_dct['year'] # validationモデルと年のdict\n",
    "\n",
    "# pred_val\n",
    "pred_path = f\"/docker/mnt/d/research/D2/cnn3/result/svd/thailand/1x1/seed1_mode{mode}.npy\"\n",
    "pred_val = np.load(pred_path)\n",
    "\n",
    "# pred_val_norm, y_val_norm\n",
    "pred_norm_path = f\"/docker/mnt/d/research/D2/cnn3/result/svd/thailand/1x1/seed1_mode{mode}_norm.pickle\"\n",
    "with open(pred_norm_path, 'rb') as f:\n",
    "    data = pickle.load(f)\n",
    "pred_val_norm, y_val_norm = data['pred_val_norm'], data['y_val_norm']"
   ]
  },
  {
   "cell_type": "code",
   "execution_count": 13,
   "id": "a74a574d-ed05-4422-91f7-52c809d3fc86",
   "metadata": {},
   "outputs": [
    {
     "ename": "NameError",
     "evalue": "name 'value' is not defined",
     "output_type": "error",
     "traceback": [
      "\u001b[0;31m---------------------------------------------------------------------------\u001b[0m",
      "\u001b[0;31mNameError\u001b[0m                                 Traceback (most recent call last)",
      "Cell \u001b[0;32mIn[13], line 1\u001b[0m\n\u001b[0;32m----> 1\u001b[0m \u001b[43mdiff\u001b[49m\u001b[43m(\u001b[49m\u001b[43mpred_val\u001b[49m\u001b[43m,\u001b[49m\u001b[43m \u001b[49m\u001b[43my_val\u001b[49m\u001b[43m)\u001b[49m\n",
      "Cell \u001b[0;32mIn[11], line 4\u001b[0m, in \u001b[0;36mdiff\u001b[0;34m(pred, y)\u001b[0m\n\u001b[1;32m      3\u001b[0m \u001b[38;5;28;01mdef\u001b[39;00m \u001b[38;5;21mdiff\u001b[39m(pred, y):\n\u001b[0;32m----> 4\u001b[0m     diff \u001b[38;5;241m=\u001b[39m np\u001b[38;5;241m.\u001b[39mabs(\u001b[43mvalue\u001b[49m \u001b[38;5;241m-\u001b[39m label)\n\u001b[1;32m      5\u001b[0m     diff_mean \u001b[38;5;241m=\u001b[39m np\u001b[38;5;241m.\u001b[39mmean(diff_flat, axis\u001b[38;5;241m=\u001b[39m\u001b[38;5;241m0\u001b[39m)\n\u001b[1;32m      6\u001b[0m     diff_bar(diff_mean)\n",
      "\u001b[0;31mNameError\u001b[0m: name 'value' is not defined"
     ]
    }
   ],
   "source": [
    "diff(pred_val, y_val)"
   ]
  },
  {
   "cell_type": "code",
   "execution_count": 9,
   "id": "de842138-f389-47b1-966d-9bff9d6682e9",
   "metadata": {
    "tags": []
   },
   "outputs": [
    {
     "data": {
      "text/plain": [
       "(1000, 400)"
      ]
     },
     "execution_count": 9,
     "metadata": {},
     "output_type": "execute_result"
    }
   ],
   "source": []
  },
  {
   "cell_type": "code",
   "execution_count": null,
   "id": "9877aec0-0dbb-4a5a-9d8e-9392873d83db",
   "metadata": {},
   "outputs": [],
   "source": []
  }
 ],
 "metadata": {
  "kernelspec": {
   "display_name": "Python 3 (ipykernel)",
   "language": "python",
   "name": "python3"
  },
  "language_info": {
   "codemirror_mode": {
    "name": "ipython",
    "version": 3
   },
   "file_extension": ".py",
   "mimetype": "text/x-python",
   "name": "python",
   "nbconvert_exporter": "python",
   "pygments_lexer": "ipython3",
   "version": "3.8.10"
  }
 },
 "nbformat": 4,
 "nbformat_minor": 5
}
